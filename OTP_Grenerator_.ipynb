{
  "nbformat": 4,
  "nbformat_minor": 0,
  "metadata": {
    "colab": {
      "provenance": []
    },
    "kernelspec": {
      "name": "python3",
      "display_name": "Python 3"
    },
    "language_info": {
      "name": "python"
    }
  },
  "cells": [
    {
      "cell_type": "code",
      "execution_count": 2,
      "metadata": {
        "colab": {
          "base_uri": "https://localhost:8080/"
        },
        "id": "SopmKOeTPenp",
        "outputId": "986e3b64-f837-4dff-d75c-89e714ebe6ce"
      },
      "outputs": [
        {
          "output_type": "stream",
          "name": "stdout",
          "text": [
            "Generated OTP: 832270\n",
            "OTP Valid: True\n"
          ]
        }
      ],
      "source": [
        "import random\n",
        "import time\n",
        "\n",
        "class OTPSystem:\n",
        "    def __init__(self, validity_period=300):\n",
        "        self.otp_store = {}\n",
        "        self.validity_period = validity_period\n",
        "\n",
        "    def generate_otp(self, user_id):\n",
        "        otp = ''.join(random.choices('0123456789', k=6))\n",
        "        self.otp_store[user_id] = time.time() + self.validity_period\n",
        "        return otp\n",
        "\n",
        "    def validate_otp(self, user_id):\n",
        "        return time.time() <= self.otp_store.pop(user_id, 0)\n",
        "\n",
        "# Example usage\n",
        "otp_system = OTPSystem()\n",
        "\n",
        "user_id = \"user123\"\n",
        "otp = otp_system.generate_otp(user_id)\n",
        "print(f\"Generated OTP: {otp}\")\n",
        "\n",
        "is_valid = otp_system.validate_otp(user_id)\n",
        "print(f\"OTP Valid: {is_valid}\")"
      ]
    }
  ]
}